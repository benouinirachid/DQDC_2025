{
  "nbformat": 4,
  "nbformat_minor": 0,
  "metadata": {
    "colab": {
      "provenance": []
    },
    "kernelspec": {
      "name": "python3",
      "display_name": "Python 3"
    },
    "language_info": {
      "name": "python"
    }
  },
  "cells": [
    {
      "cell_type": "code",
      "execution_count": null,
      "metadata": {
        "colab": {
          "base_uri": "https://localhost:8080/"
        },
        "id": "_1kOQt9u4Qs_",
        "outputId": "429c34a5-adb7-4f15-e826-1ee8a7f7a4d6"
      },
      "outputs": [
        {
          "output_type": "stream",
          "name": "stdout",
          "text": [
            "Next 5 hourly temperatures in Paris:\n",
            "2025-04-07T00:00: 12.1°C\n",
            "2025-04-07T01:00: 11.3°C\n",
            "2025-04-07T02:00: 10.4°C\n",
            "2025-04-07T03:00: 9.6°C\n",
            "2025-04-07T04:00: 8.9°C\n"
          ]
        }
      ],
      "source": [
        "import requests\n",
        "\n",
        "# Define the endpoint and parameters\n",
        "api_url = \"https://api.open-meteo.com/v1/forecast\"\n",
        "params = {\n",
        "    \"latitude\": 48.8566,\n",
        "    \"longitude\": 2.3522,\n",
        "    \"hourly\": \"temperature_2m\",\n",
        "    \"timezone\": \"auto\"\n",
        "}\n",
        "\n",
        "# Send the GET request\n",
        "response = requests.get(api_url, params=params)\n",
        "\n",
        "# Parse and print\n",
        "if response.status_code == 200:\n",
        "    data = response.json()\n",
        "    times = data['hourly']['time']\n",
        "    temps = data['hourly']['temperature_2m']\n",
        "    print(\"Next 5 hourly temperatures in Paris:\")\n",
        "    for t, temp in zip(times[:5], temps[:5]):\n",
        "        print(f\"{t}: {temp}°C\")\n",
        "else:\n",
        "    print(\"Failed to fetch data:\", response.status_code)\n"
      ]
    },
    {
      "cell_type": "code",
      "source": [
        "from bs4 import BeautifulSoup\n",
        "import requests\n",
        "\n",
        "url = \"https://open-meteo.com/en/docs\"\n",
        "response = requests.get(url)\n",
        "\n",
        "if response.status_code == 200:\n",
        "    soup = BeautifulSoup(response.text, \"html.parser\")\n",
        "\n",
        "    print(\"Section headers from the documentation page:\")\n",
        "    for header in soup.find_all([\"h2\", \"h3\"]):\n",
        "        print(\"-\", header.get_text(strip=True))\n",
        "else:\n",
        "    print(\"Failed to scrape the website:\", response.status_code)\n"
      ],
      "metadata": {
        "colab": {
          "base_uri": "https://localhost:8080/"
        },
        "id": "dWeoXcT94Wbm",
        "outputId": "55aa8b46-7ec9-42ba-bed3-645ffc46cab6"
      },
      "execution_count": null,
      "outputs": [
        {
          "output_type": "stream",
          "name": "stdout",
          "text": [
            "Section headers from the documentation page:\n",
            "- Location and Time\n",
            "- Hourly Weather Variables\n",
            "- Additional Variables And Options\n",
            "- Solar Radiation Variables\n",
            "- Pressure Level Variables\n",
            "- Weather models\n",
            "- 15-Minutely Weather Variables\n",
            "- Daily Weather Variables\n",
            "- Additional Daily Variables\n",
            "- Current Weather\n",
            "- Settings\n",
            "- API Response\n",
            "- Data Sources\n",
            "- API Documentation\n",
            "- Hourly Parameter Definition\n",
            "- 15-Minutely Parameter Definition\n",
            "- Pressure Level Variables\n",
            "- Daily Parameter Definition\n",
            "- JSON Return Object\n",
            "- Errors\n",
            "- Weather variable documentation\n",
            "- WMO Weather interpretation codes (WW)\n"
          ]
        }
      ]
    },
    {
      "cell_type": "code",
      "source": [],
      "metadata": {
        "id": "Pw79bJVA4180"
      },
      "execution_count": null,
      "outputs": []
    }
  ]
}